{
 "cells": [
  {
   "cell_type": "markdown",
   "id": "e87fdfc4",
   "metadata": {},
   "source": [
    "# PRACTICA JUEGO CONDICIONALES BUCLES\n",
    "\n",
    "#### Esta práctica se entrega el día 22 de Octubre a las 23:59\n",
    "#### Cuenta el 10% de la nota\n",
    "\n",
    "## JUEGO DE ADIVINANZAS\n",
    "\n",
    "#### Escribe un programa que coja un número entero del 1 al 100, y los jugadores tienen que tratar de adivinar el número.\n",
    "\n",
    "#### Las reglas son las siguientes:\n",
    "\n",
    "1. Si un jugador escoje un número menor que 1 o mayor que 100, el programa dice \"FUERA DE LÍMITES\"\n",
    "2. En el primer turno del jugador, si está en un rango de 10 del número dice \"¡CALIENTE!\". Si está fuera de ese rango dice \"¡FRIO!\"\n",
    "3. En todas las rondas siguientes, si el jugador se acerca más que la vez anterior, dice \"¡MAS CALIENTE!\". Si está más lejos que la anterior vez dice \"¡MAS FRIO!\"\n",
    "4. Cuando el jugador acierte el número, les dirá que han acertado y cuántos intentos les ha llevado\n",
    "\n",
    "\n",
    "\n"
   ]
  },
  {
   "cell_type": "markdown",
   "id": "1ea418c3",
   "metadata": {},
   "source": [
    "##### PISTAS\n",
    "1. Trata obtener un número aleatorio entre el 1 y el 100\n",
    "2. Haz una introducción de tu juego y explica las reglas\n",
    "3. Crea una lista que almacene los intentos. \n",
    "4. Haz un bucle que evalúe un número. Prueba que funcione primero. While podría ir bien\n",
    "5. Modifica ese bucle para que compare nuestro número con el intento. Si se acierta usa break, si no puedes usar continue y tienes que seguir preguntando al jugador por nuevos intentos"
   ]
  },
  {
   "cell_type": "code",
   "execution_count": 1,
   "id": "1e84ba8d",
   "metadata": {},
   "outputs": [],
   "source": [
    "import random"
   ]
  },
  {
   "cell_type": "code",
   "execution_count": 2,
   "id": "d1e3e97a",
   "metadata": {},
   "outputs": [],
   "source": [
    "num=random.randint(1,100)"
   ]
  },
  {
   "cell_type": "code",
   "execution_count": 3,
   "id": "92a87b72",
   "metadata": {},
   "outputs": [
    {
     "name": "stdout",
     "output_type": "stream",
     "text": [
      "¡BIENVENIDO AL JUEGO DE ADIVINANZAS!\n",
      "Estoy pensando en un número del 1 al 100...\n",
      "Si tu primer intento está dentro de un rango de 10 de mi número, te diré ¡CALIENTE!\n",
      "Si tu primer intento está fuera de ese rango, te diré ¡FRIO!\n",
      "Si tus siguientes intentos se van acercando, te diré ¡MAS CALIENTE!\n",
      "Si tus siguientes intentos se van alejando, te diré ¡MAS FRIO!\n",
      "¡EMPEZAMOS!\n"
     ]
    }
   ],
   "source": [
    "print(\"¡BIENVENIDO AL JUEGO DE ADIVINANZAS!\")\n",
    "print(\"Estoy pensando en un número del 1 al 100...\")\n",
    "print(\"Si tu primer intento está dentro de un rango de 10 de mi número, te diré ¡CALIENTE!\")\n",
    "print(\"Si tu primer intento está fuera de ese rango, te diré ¡FRIO!\")\n",
    "print(\"Si tus siguientes intentos se van acercando, te diré ¡MAS CALIENTE!\")\n",
    "print(\"Si tus siguientes intentos se van alejando, te diré ¡MAS FRIO!\")\n",
    "print(\"¡EMPEZAMOS!\")"
   ]
  },
  {
   "cell_type": "code",
   "execution_count": 4,
   "id": "ca2e13fc",
   "metadata": {},
   "outputs": [],
   "source": [
    "intentos=[]"
   ]
  },
  {
   "cell_type": "code",
   "execution_count": 5,
   "id": "3e7b5de0",
   "metadata": {},
   "outputs": [
    {
     "name": "stdout",
     "output_type": "stream",
     "text": [
      "Estoy pensando en un número entero entre el 1 y el 100.\n",
      "¿Puedes adivinarlo? 40\n",
      "¡FRIO!\n",
      "Estoy pensando en un número entero entre el 1 y el 100.\n",
      "¿Puedes adivinarlo? 60\n",
      "¡MAS FRIO!\n",
      "Estoy pensando en un número entero entre el 1 y el 100.\n",
      "¿Puedes adivinarlo? 30\n",
      "¡MAS CALIENTE!\n",
      "Estoy pensando en un número entero entre el 1 y el 100.\n",
      "¿Puedes adivinarlo? 20\n",
      "¡MAS FRIO!\n",
      "Estoy pensando en un número entero entre el 1 y el 100.\n",
      "¿Puedes adivinarlo? 25\n",
      "¡MAS CALIENTE!\n",
      "Estoy pensando en un número entero entre el 1 y el 100.\n",
      "¿Puedes adivinarlo? 26\n",
      "¡MAS CALIENTE!\n",
      "Estoy pensando en un número entero entre el 1 y el 100.\n",
      "¿Puedes adivinarlo? 27\n",
      "FELICIDADES, LO HAS ADIVINADO CON SOLO 7!!\n"
     ]
    }
   ],
   "source": [
    "while True:\n",
    "    \n",
    "    # Permitimos al usuario hacer un intento\n",
    "    intento=int(input(\"Estoy pensando en un número entero entre el 1 y el 100.\\n¿Puedes adivinarlo? \"))\n",
    "    \n",
    "    if intento < 1 or intento > 100:\n",
    "        print(\"¡FUERA DE LIMITES! Por favor, intentalo de nuevo\")\n",
    "        continue\n",
    "        \n",
    "    intentos.append(intento)\n",
    "    \n",
    "    if intento == num:\n",
    "        print(f'FELICIDADES, LO HAS ADIVINADO CON SOLO {len(intentos)}!!')\n",
    "        break\n",
    "            \n",
    "    if len(intentos) >= 2:\n",
    "        if abs(num-intento) < abs(num-intentos[-2]):\n",
    "            print(\"¡MAS CALIENTE!\")\n",
    "        else:\n",
    "            print(\"¡MAS FRIO!\")\n",
    "    else:\n",
    "        if abs(num-intento) <= 10:\n",
    "            print(\"¡CALIENTE!\")\n",
    "        else:\n",
    "            print(\"¡FRIO!\")"
   ]
  }
 ],
 "metadata": {
  "kernelspec": {
   "display_name": "Python 3 (ipykernel)",
   "language": "python",
   "name": "python3"
  },
  "language_info": {
   "codemirror_mode": {
    "name": "ipython",
    "version": 3
   },
   "file_extension": ".py",
   "mimetype": "text/x-python",
   "name": "python",
   "nbconvert_exporter": "python",
   "pygments_lexer": "ipython3",
   "version": "3.11.4"
  }
 },
 "nbformat": 4,
 "nbformat_minor": 5
}
